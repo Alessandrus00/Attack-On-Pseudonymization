{
 "cells": [
  {
   "cell_type": "markdown",
   "id": "da446f13",
   "metadata": {},
   "source": [
    "## Application of Dictionary Attack Technique"
   ]
  },
  {
   "cell_type": "code",
   "execution_count": 1,
   "id": "ff0960cc",
   "metadata": {},
   "outputs": [],
   "source": [
    "# read names and surnames in 'filename1' and 'filename2'\n",
    "def read_names(filename1, filename2):\n",
    "    file1 = codecs.open(filename1,'r','utf-8')\n",
    "    file2 = codecs.open(filename2,'r','utf-8')\n",
    "    names = file1.readlines()\n",
    "    surnames = file2.readlines()\n",
    "    for i in range (len(names)):\n",
    "        names[i] = names[i].replace(\"\\r\",\"\").replace(\"\\n\",\"\")\n",
    "    for i in range (len(surnames)):\n",
    "        surnames[i] = surnames[i].replace(\"\\r\",\"\").replace(\"\\n\",\"\")\n",
    "    return names, surnames"
   ]
  },
  {
   "cell_type": "code",
   "execution_count": 2,
   "id": "88ce5acf",
   "metadata": {},
   "outputs": [],
   "source": [
    "# for all possible name-surname combinations\n",
    "# generate a dictionary of pairs (pseudonym,email)\n",
    "def generate_hashes(filename1, filename2):\n",
    "    mapping_dir = \"data/mapping\"\n",
    "    if len(listdir(mapping_dir))>0:\n",
    "        return\n",
    "    names, surnames = read_names(filename1, filename2)\n",
    "    mapping_dict = {}\n",
    "    i=0\n",
    "    j=0\n",
    "    for name in names:\n",
    "        for surname in surnames:\n",
    "            # split the dictionary into smaller pieces\n",
    "            if i == 500000:\n",
    "                i=0\n",
    "                j = j + 1\n",
    "                with open(mapping_dir + '/mapping'+str(j)+'.pickle', 'wb') as handle:\n",
    "                    pk.dump(mapping_dict, handle)\n",
    "                print(\"File named mapping\" + str(j) + \" successfully saved\")\n",
    "                mapping_dict.clear()\n",
    "            else:\n",
    "                curr_email = (name + '.' + surname).lower().replace(\"'\", \"\").replace(\" \",\"\") + '@studium.unict.it'\n",
    "                curr_hash = hashlib.sha256(curr_email.encode()).hexdigest()\n",
    "                mapping_dict.update({curr_hash:curr_email})\n",
    "                i= i + 1"
   ]
  },
  {
   "cell_type": "code",
   "execution_count": 3,
   "id": "26328f4d",
   "metadata": {},
   "outputs": [],
   "source": [
    "# find the indentifiers associated to hashes in 'df'\n",
    "# through a dictionary look-up\n",
    "def crack_hashes(df):\n",
    "    mapping_dir = \"data/mapping\"\n",
    "    partial_mapping = {}\n",
    "    for i in range(len(df)):\n",
    "        curr_hash = df.iloc[i,0]\n",
    "        for mapping in listdir(mapping_dir):\n",
    "            mapping_name = mapping_dir+\"/\"+mapping\n",
    "            with open(mapping_name, 'rb') as handle:\n",
    "                curr_mapping = pk.load(handle)\n",
    "            plain_email = curr_mapping.get(curr_hash)\n",
    "            if(plain_email is not None):\n",
    "                partial_mapping.update({curr_hash:plain_email})\n",
    "                break\n",
    "    with open('data/partial_mapping.pickle', 'wb') as handle:\n",
    "        pk.dump(partial_mapping, handle)"
   ]
  },
  {
   "cell_type": "code",
   "execution_count": 4,
   "id": "dc6eeb5c",
   "metadata": {},
   "outputs": [],
   "source": [
    "import pandas as pd\n",
    "import hashlib\n",
    "from os import listdir\n",
    "import codecs\n",
    "import pickle as pk\n",
    "\n",
    "# create the dictionary\n",
    "generate_hashes('data/nomi_italiani.txt', 'data/cognomi_italiani.txt')"
   ]
  },
  {
   "cell_type": "code",
   "execution_count": 5,
   "id": "346d79f6",
   "metadata": {},
   "outputs": [
    {
     "data": {
      "text/html": [
       "<div>\n",
       "<style scoped>\n",
       "    .dataframe tbody tr th:only-of-type {\n",
       "        vertical-align: middle;\n",
       "    }\n",
       "\n",
       "    .dataframe tbody tr th {\n",
       "        vertical-align: top;\n",
       "    }\n",
       "\n",
       "    .dataframe thead th {\n",
       "        text-align: right;\n",
       "    }\n",
       "</style>\n",
       "<table border=\"1\" class=\"dataframe\">\n",
       "  <thead>\n",
       "    <tr style=\"text-align: right;\">\n",
       "      <th></th>\n",
       "      <th>Pseudonym</th>\n",
       "      <th>Passed</th>\n",
       "      <th>Sex</th>\n",
       "      <th>Off-site</th>\n",
       "      <th>Holder</th>\n",
       "    </tr>\n",
       "  </thead>\n",
       "  <tbody>\n",
       "    <tr>\n",
       "      <th>0</th>\n",
       "      <td>6098239d3dff4173859757b08efbcd394444684e87800b...</td>\n",
       "      <td>1</td>\n",
       "      <td>M</td>\n",
       "      <td>1</td>\n",
       "      <td>1</td>\n",
       "    </tr>\n",
       "    <tr>\n",
       "      <th>1</th>\n",
       "      <td>f87649a54babb5ece11636e038b86f91d978bfc13042d5...</td>\n",
       "      <td>1</td>\n",
       "      <td>M</td>\n",
       "      <td>1</td>\n",
       "      <td>1</td>\n",
       "    </tr>\n",
       "    <tr>\n",
       "      <th>2</th>\n",
       "      <td>ecd1c553df13a400324db32ef72dd652784ee03bbc6cd3...</td>\n",
       "      <td>1</td>\n",
       "      <td>M</td>\n",
       "      <td>1</td>\n",
       "      <td>1</td>\n",
       "    </tr>\n",
       "  </tbody>\n",
       "</table>\n",
       "</div>"
      ],
      "text/plain": [
       "                                           Pseudonym  Passed Sex  Off-site  \\\n",
       "0  6098239d3dff4173859757b08efbcd394444684e87800b...       1   M         1   \n",
       "1  f87649a54babb5ece11636e038b86f91d978bfc13042d5...       1   M         1   \n",
       "2  ecd1c553df13a400324db32ef72dd652784ee03bbc6cd3...       1   M         1   \n",
       "\n",
       "   Holder  \n",
       "0       1  \n",
       "1       1  \n",
       "2       1  "
      ]
     },
     "execution_count": 5,
     "metadata": {},
     "output_type": "execute_result"
    }
   ],
   "source": [
    "# read emails hash to revert back\n",
    "df = pd.read_csv(\"data/filtered_students.csv\")\n",
    "df"
   ]
  },
  {
   "cell_type": "code",
   "execution_count": 6,
   "id": "84e0238d",
   "metadata": {},
   "outputs": [],
   "source": [
    "# apply the dictionary look-up\n",
    "crack_hashes(df)"
   ]
  },
  {
   "cell_type": "code",
   "execution_count": 7,
   "id": "c4972179",
   "metadata": {},
   "outputs": [],
   "source": [
    "# open the partial mapping table\n",
    "partial_mapping = {}\n",
    "with open('data/partial_mapping.pickle', 'rb') as handle:\n",
    "    partial_mapping = pk.load(handle)"
   ]
  },
  {
   "cell_type": "code",
   "execution_count": 9,
   "id": "e3552c5a",
   "metadata": {},
   "outputs": [
    {
     "data": {
      "text/html": [
       "<div>\n",
       "<style scoped>\n",
       "    .dataframe tbody tr th:only-of-type {\n",
       "        vertical-align: middle;\n",
       "    }\n",
       "\n",
       "    .dataframe tbody tr th {\n",
       "        vertical-align: top;\n",
       "    }\n",
       "\n",
       "    .dataframe thead th {\n",
       "        text-align: right;\n",
       "    }\n",
       "</style>\n",
       "<table border=\"1\" class=\"dataframe\">\n",
       "  <thead>\n",
       "    <tr style=\"text-align: right;\">\n",
       "      <th></th>\n",
       "      <th>Pseudonym</th>\n",
       "      <th>E-mail</th>\n",
       "    </tr>\n",
       "  </thead>\n",
       "  <tbody>\n",
       "    <tr>\n",
       "      <th>0</th>\n",
       "      <td>6098239d3dff4173859757b08efbcd394444684e87800b...</td>\n",
       "      <td>lucifero.marazzina@studium.unict.it</td>\n",
       "    </tr>\n",
       "    <tr>\n",
       "      <th>1</th>\n",
       "      <td>f87649a54babb5ece11636e038b86f91d978bfc13042d5...</td>\n",
       "      <td>adilia.ceola@studium.unict.it</td>\n",
       "    </tr>\n",
       "    <tr>\n",
       "      <th>2</th>\n",
       "      <td>ecd1c553df13a400324db32ef72dd652784ee03bbc6cd3...</td>\n",
       "      <td>ricordano.picollo@studium.unict.it</td>\n",
       "    </tr>\n",
       "  </tbody>\n",
       "</table>\n",
       "</div>"
      ],
      "text/plain": [
       "                                           Pseudonym  \\\n",
       "0  6098239d3dff4173859757b08efbcd394444684e87800b...   \n",
       "1  f87649a54babb5ece11636e038b86f91d978bfc13042d5...   \n",
       "2  ecd1c553df13a400324db32ef72dd652784ee03bbc6cd3...   \n",
       "\n",
       "                                E-mail  \n",
       "0  lucifero.marazzina@studium.unict.it  \n",
       "1        adilia.ceola@studium.unict.it  \n",
       "2   ricordano.picollo@studium.unict.it  "
      ]
     },
     "execution_count": 9,
     "metadata": {},
     "output_type": "execute_result"
    }
   ],
   "source": [
    "# visualize the partial mapping table\n",
    "df_map = pd.DataFrame(partial_mapping.items(),columns=[\"Pseudonym\", \"E-mail\"])\n",
    "df_map"
   ]
  }
 ],
 "metadata": {
  "kernelspec": {
   "display_name": "Python 3.9.7 ('base')",
   "language": "python",
   "name": "python3"
  },
  "language_info": {
   "codemirror_mode": {
    "name": "ipython",
    "version": 3
   },
   "file_extension": ".py",
   "mimetype": "text/x-python",
   "name": "python",
   "nbconvert_exporter": "python",
   "pygments_lexer": "ipython3",
   "version": "3.9.7"
  },
  "vscode": {
   "interpreter": {
    "hash": "1f681541a6fd80b04fa3662a619ebf48d418dc3915727d5661793ef102c7b63a"
   }
  }
 },
 "nbformat": 4,
 "nbformat_minor": 5
}
