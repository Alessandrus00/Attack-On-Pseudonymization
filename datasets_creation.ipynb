{
 "cells": [
  {
   "cell_type": "markdown",
   "id": "816c1f37",
   "metadata": {},
   "source": [
    "## Datasets creation"
   ]
  },
  {
   "cell_type": "code",
   "execution_count": 1,
   "id": "5e3c88d4",
   "metadata": {},
   "outputs": [],
   "source": [
    "# read names and surnames in 'filename1' and 'filename2'\n",
    "def read_names(filename1, filename2):\n",
    "    file1 = codecs.open(filename1,'r','utf-8')\n",
    "    file2 = codecs.open(filename2,'r','utf-8')\n",
    "    names = file1.readlines()\n",
    "    surnames = file2.readlines()\n",
    "    for i in range (len(names)):\n",
    "        names[i] = names[i].replace(\"\\r\",\"\").replace(\"\\n\",\"\")\n",
    "    for i in range (len(surnames)):\n",
    "        surnames[i] = surnames[i].replace(\"\\r\",\"\").replace(\"\\n\",\"\")\n",
    "    shuffle(names)\n",
    "    shuffle(surnames)\n",
    "    return names, surnames"
   ]
  },
  {
   "cell_type": "code",
   "execution_count": 2,
   "id": "954c5ae4",
   "metadata": {},
   "outputs": [],
   "source": [
    "# create a dataset of randomly chosen students\n",
    "def create_students(filename1, filename2, students=20000):\n",
    "    if exists(\"data/students.csv\"):\n",
    "        return\n",
    "    names, surnames = read_names(filename1, filename2)\n",
    "    df = pd.DataFrame(columns=['E-mail'])\n",
    "    emails = []\n",
    "    # create the email address associated to each student\n",
    "    for i in range(students):\n",
    "        email = (choice(names) + '.' + choice(surnames)).lower().replace(\"'\", \"\").replace(\" \",\"\") + '@studium.unict.it'\n",
    "        emails.append(email)\n",
    "    df[\"E-mail\"] = emails\n",
    "    df.to_csv(\"data/students.csv\", index=False)"
   ]
  },
  {
   "cell_type": "code",
   "execution_count": 3,
   "id": "d36f0466",
   "metadata": {},
   "outputs": [],
   "source": [
    "# create a mapping table containing the pairs (E-mail, Pseudonym)\n",
    "def create_mapping_table():\n",
    "    if exists(\"data/mapping_table.csv\"):\n",
    "        return\n",
    "    df = pd.read_csv(\"data/students.csv\")\n",
    "    pseudonyms = []\n",
    "    # compute the hash with sha256 for each email address\n",
    "    for i in range(len(df)):\n",
    "        pseudonyms.append(hashlib.sha256(df.iloc[i,0].encode()).hexdigest())\n",
    "    df[\"Pseudonym\"] = pseudonyms\n",
    "    df.to_csv(\"data/mapping_table.csv\", index=False)"
   ]
  },
  {
   "cell_type": "code",
   "execution_count": 4,
   "id": "aa8512fc",
   "metadata": {},
   "outputs": [],
   "source": [
    "# create the dataset of IS students with their project result\n",
    "def create_is(students=50):\n",
    "    if exists(\"data/is_projects_results.csv\"):\n",
    "        return\n",
    "    df = pd.read_csv(\"data/mapping_table.csv\")\n",
    "    df = df.sample(students).drop(\"E-mail\", axis=1)\n",
    "    passed = [0,1]\n",
    "    # 0= not passed ; 1= passed \n",
    "    df[\"Passed\"] = choice(passed, students, p=[0.35,0.65])\n",
    "    df.to_csv(\"data/is_projects_results.csv\", index=False)"
   ]
  },
  {
   "cell_type": "code",
   "execution_count": 5,
   "id": "adbadc9f",
   "metadata": {},
   "outputs": [],
   "source": [
    "#create the ersu ranking list\n",
    "def create_ersu():\n",
    "    if exists(\"data/ersu_results.csv\"):\n",
    "        return\n",
    "    df = pd.read_csv(\"data/mapping_table.csv\")\n",
    "    df = df.drop(\"E-mail\", axis=1)\n",
    "    granted = [0,1]\n",
    "    # 0= not holder ; 1= holder\n",
    "    df[\"Holder\"] = choice(granted, len(df), p=[0.25,0.75])\n",
    "    df.to_csv(\"data/ersu_results.csv\", index=False)"
   ]
  },
  {
   "cell_type": "code",
   "execution_count": 6,
   "id": "8eec19c2",
   "metadata": {},
   "outputs": [],
   "source": [
    "# create almalaurea dataset\n",
    "def create_almalaurea():\n",
    "    if exists(\"data/almalaurea_report.csv\"):\n",
    "        return\n",
    "    df = pd.read_csv(\"data/mapping_table.csv\")\n",
    "    df = df.drop(\"E-mail\", axis=1)\n",
    "    off_site = [0,1]\n",
    "    # 0= not off-site ; 1= off-site\n",
    "    df[\"Off-site\"] = choice(off_site, len(df), p=[0.6,0.4])\n",
    "    df.to_csv(\"data/almalaurea_report.csv\", index=False)"
   ]
  },
  {
   "cell_type": "code",
   "execution_count": 7,
   "id": "fd67a36b",
   "metadata": {},
   "outputs": [],
   "source": [
    "# create msoutlook dataset\n",
    "def create_msoutlook():\n",
    "    if exists(\"data/msoutlook_report.csv\"):\n",
    "        return\n",
    "    df = pd.read_csv(\"data/mapping_table.csv\")\n",
    "    df = df.drop(\"E-mail\", axis=1)\n",
    "    sex = ['M','F']\n",
    "    df[\"Sex\"] = choice(sex, len(df), p=[0.5,0.5])\n",
    "    df.to_csv(\"data/msoutlook_report.csv\", index=False)"
   ]
  },
  {
   "cell_type": "code",
   "execution_count": 8,
   "id": "ce1f5526",
   "metadata": {},
   "outputs": [],
   "source": [
    "import pandas as pd\n",
    "import hashlib\n",
    "from numpy.random import choice, seed, shuffle\n",
    "from os.path import exists\n",
    "import codecs\n",
    "\n",
    "# set a seed to have repeatable results\n",
    "seed(11)\n",
    "\n",
    "# create a students dataset\n",
    "create_students('data/nomi_italiani.txt', 'data/cognomi_italiani.txt')"
   ]
  },
  {
   "cell_type": "code",
   "execution_count": 9,
   "id": "13ec3820",
   "metadata": {},
   "outputs": [],
   "source": [
    "# create the mapping table\n",
    "create_mapping_table()\n",
    "# create IS students\n",
    "create_is()\n",
    "# create  ersu dataset\n",
    "create_ersu()\n",
    "# create almalaurea dataset\n",
    "create_almalaurea()\n",
    "# create msoutlook dataset\n",
    "create_msoutlook()"
   ]
  }
 ],
 "metadata": {
  "kernelspec": {
   "display_name": "Python 3.9.7 ('base')",
   "language": "python",
   "name": "python3"
  },
  "language_info": {
   "codemirror_mode": {
    "name": "ipython",
    "version": 3
   },
   "file_extension": ".py",
   "mimetype": "text/x-python",
   "name": "python",
   "nbconvert_exporter": "python",
   "pygments_lexer": "ipython3",
   "version": "3.9.7"
  },
  "vscode": {
   "interpreter": {
    "hash": "1f681541a6fd80b04fa3662a619ebf48d418dc3915727d5661793ef102c7b63a"
   }
  }
 },
 "nbformat": 4,
 "nbformat_minor": 5
}
